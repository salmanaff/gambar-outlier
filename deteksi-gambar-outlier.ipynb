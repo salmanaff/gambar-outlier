{
  "nbformat": 4,
  "nbformat_minor": 0,
  "metadata": {
    "colab": {
      "provenance": [],
      "gpuType": "T4",
      "collapsed_sections": [
        "CJod-uiV8z4l",
        "aRNWwivi83Px",
        "cRu0p55B_p2t",
        "hSXHoF-0AX0h",
        "U_ejLx0S_ryt",
        "M-LTx2T7_tyK",
        "5hSqf7CMsDS8",
        "cjUzjD87zK-0"
      ]
    },
    "kernelspec": {
      "name": "python3",
      "display_name": "Python 3"
    },
    "language_info": {
      "name": "python"
    },
    "accelerator": "GPU",
  },
  "cells": [
    {
      "cell_type": "markdown",
      "source": [
        "[![Open In Colab](https://colab.research.google.com/assets/colab-badge.svg)](https://colab.research.google.com/github/salmanaff/gambar-outlier/blob/main/deteksi-gambar-outlier.ipynb)\n",
        "\n",
        "# Codes"
      ],
      "metadata": {
        "id": "CJod-uiV8z4l"
      }
    },
    {
      "cell_type": "markdown",
      "source": [
        "## General"
      ],
      "metadata": {
        "id": "aRNWwivi83Px"
      }
    },
    {
      "cell_type": "code",
      "source": [
        "!pip install -q glasbey\n",
        "import glasbey\n",
        "\n",
        "import re\n",
        "import os\n",
        "from tqdm.notebook import trange, tqdm\n",
        "\n",
        "import ipywidgets as widgets\n",
        "from ipywidgets import interact, interactive, fixed, interact_manual\n",
        "from IPython.display import display, clear_output\n",
        "from traitlets import traitlets\n",
        "\n",
        "class LoadedButton(widgets.Button):\n",
        "    \"\"\"A button that can holds a value as a attribute.\"\"\"\n",
        "    def __init__(self, value=None, *args, **kwargs):\n",
        "        super(LoadedButton, self).__init__(*args, **kwargs)\n",
        "        # Create the value attribute.\n",
        "        self.add_traits(value=traitlets.Any(value))\n",
        "\n",
        "import torch\n",
        "from torch import nn, optim\n",
        "import torch.nn.functional as F\n",
        "import torchvision.transforms as t\n",
        "from torchvision import models\n",
        "from torchvision.datasets import ImageFolder\n",
        "from torch.utils.data import DataLoader\n",
        "\n",
        "model_dir = 'models'\n",
        "data_dir = 'dataset'\n",
        "try:\n",
        "  import google.colab\n",
        "  os.mkdir(model_dir)\n",
        "  os.mkdir(data_dir)\n",
        "except:\n",
        "  IN_COLAB = False\n",
        "\n",
        "def get_default_device():\n",
        "    \"\"\"Pick GPU if available, else CPU\"\"\"\n",
        "    if torch.cuda.is_available():\n",
        "        return torch.device('cuda')\n",
        "    else:\n",
        "        return torch.device('cpu')\n",
        "device = get_default_device()"
      ],
      "metadata": {
        "id": "dXR4wbSl_wNR"
      },
      "execution_count": null,
      "outputs": []
    },
    {
      "cell_type": "markdown",
      "source": [
        "## Dataset"
      ],
      "metadata": {
        "id": "cRu0p55B_p2t"
      }
    },
    {
      "cell_type": "code",
      "source": [
        "def to_device(data, device):\n",
        "    \"\"\"Move tensor(s) to chosen device\"\"\"\n",
        "    if isinstance(data, (list,tuple)):\n",
        "        return [to_device(x, device) for x in data]\n",
        "    return data.to(device, non_blocking=True)\n",
        "\n",
        "class DeviceDataLoader():\n",
        "    \"\"\"Wrap a dataloader to move data to a device\"\"\"\n",
        "    def __init__(self, dl, device):\n",
        "        self.dl = dl\n",
        "        self.device = device\n",
        "    def __iter__(self):\n",
        "        \"\"\"Yield a batch of data after moving it to device\"\"\"\n",
        "        for b in self.dl:\n",
        "            yield to_device(b, self.device)\n",
        "    def __len__(self):\n",
        "        \"\"\"Number of batches\"\"\"\n",
        "        return len(self.dl)"
      ],
      "metadata": {
        "id": "6kkX6j5c_v7C"
      },
      "execution_count": null,
      "outputs": []
    },
    {
      "cell_type": "markdown",
      "source": [
        "## Model"
      ],
      "metadata": {
        "id": "hSXHoF-0AX0h"
      }
    },
    {
      "cell_type": "code",
      "source": [
        "def gen_models():\n",
        "    classification_models_name = []\n",
        "    for name in dir(models):\n",
        "        if name.islower() and (name.startswith('resnet')\n",
        "                              #  name.startswith('densenet') or\n",
        "                              #  name.startswith('inception') or\n",
        "                              #  name.startswith('mobilenet') or\n",
        "                              #  name.startswith('googlenet') or\n",
        "                              #  name.startswith('vgg')\n",
        "                              ):\n",
        "            classification_models_name.append(name)\n",
        "    return classification_models_name\n",
        "model_list = gen_models()\n",
        "\n",
        "def accuracy(outputs, labels):\n",
        "    _, preds = torch.max(outputs, dim=1)\n",
        "    return torch.tensor(torch.sum(preds == labels).item() / len(preds))\n",
        "\n",
        "class ImageClassificationBase(nn.Module):\n",
        "    def training_step(self, batch):\n",
        "        \"calculate loss for a batch of training data\"\n",
        "        images, labels = batch\n",
        "        out = self(images)                  # Generate predictions\n",
        "        loss = F.cross_entropy(out, labels) # Calculate loss\n",
        "        return loss\n",
        "    def validation_step(self, batch):\n",
        "        \"calculate loss & accuracy for a batch of validation data\"\n",
        "        images, labels = batch\n",
        "        out = self(images)                    # Generate predictions\n",
        "        loss = F.cross_entropy(out, labels)   # Calculate loss\n",
        "        acc = accuracy(out, labels)           # Calculate accuracy\n",
        "        return {'val_loss': loss.detach(), 'val_acc': acc}\n",
        "    def validation_epoch_end(self, outputs):\n",
        "        batch_losses = [x['val_loss'] for x in outputs]\n",
        "        epoch_loss = torch.stack(batch_losses).mean()   # Combine losses\n",
        "        batch_accs = [x['val_acc'] for x in outputs]\n",
        "        epoch_acc = torch.stack(batch_accs).mean()      # Combine accuracies\n",
        "        return {'val_loss': epoch_loss.item(), 'val_acc': epoch_acc.item()}\n",
        "    def epoch_end(self, epoch, result):\n",
        "        print(\"Epoch [{}], train_loss: {:.4f}, val_loss: {:.4f}, val_acc: {:.4f}\".format(\n",
        "            epoch, result['train_loss'], result['val_loss'], result['val_acc']))\n",
        "\n",
        "class base_net(ImageClassificationBase):\n",
        "    def __init__(self, model, num_classes):\n",
        "        super().__init__()\n",
        "        # Use a pretrained model\n",
        "        self.network = model\n",
        "        # Replace last layer\n",
        "        self.network.fc = nn.Linear(self.network.fc.in_features, num_classes)\n",
        "    def forward(self, xb):\n",
        "        return self.network(xb)"
      ],
      "metadata": {
        "id": "LJ0TKxSWAfTm"
      },
      "execution_count": null,
      "outputs": []
    },
    {
      "cell_type": "markdown",
      "source": [
        "## Training"
      ],
      "metadata": {
        "id": "U_ejLx0S_ryt"
      }
    },
    {
      "cell_type": "code",
      "source": [
        "optim_list = {\n",
        "    'SGD': optim.SGD,\n",
        "    'RMSprop': optim.RMSprop,\n",
        "    'Adagrad': optim.Adagrad,\n",
        "    'Adam': optim.Adam,\n",
        "    'AdamW': optim.AdamW,\n",
        "}\n",
        "\n",
        "class EarlyStopping:\n",
        "    def __init__(self, patience=5, verbose=False, restore_best_weights=True):\n",
        "        self.patience = patience\n",
        "        self.verbose = verbose\n",
        "        self.best_loss = float('inf')\n",
        "        self.counter = 0\n",
        "        self.early_stop = False\n",
        "        self.restore_best_weights = restore_best_weights\n",
        "        self.best_model_weights = None\n",
        "    def __call__(self, val_loss, model):\n",
        "        if val_loss < self.best_loss:\n",
        "            if self.verbose:\n",
        "                print(f'Validation loss improved by: {self.best_loss-val_loss:.4f}')\n",
        "            self.best_loss = val_loss\n",
        "            self.counter = 0\n",
        "            if self.restore_best_weights:\n",
        "                self.best_model_weights = model.state_dict().copy()\n",
        "        else:\n",
        "            self.counter += 1\n",
        "            if self.verbose:\n",
        "                print(f'Validation loss did not improve: {val_loss:.4f}')\n",
        "            if self.counter >= self.patience:\n",
        "                self.early_stop = True\n",
        "                if self.restore_best_weights and self.best_model_weights is not None:\n",
        "                    model.load_state_dict(self.best_model_weights)\n",
        "                    if self.verbose:\n",
        "                        print(\"Restored best model weights.\")\n",
        "\n",
        "@torch.no_grad()\n",
        "def evaluate(model, val_loader):\n",
        "    model.eval()\n",
        "    outputs = [model.validation_step(batch) for batch in val_loader]\n",
        "    return model.validation_epoch_end(outputs)\n",
        "\n",
        "def get_lr(optimizer):\n",
        "    for param_group in optimizer.param_groups:\n",
        "        return param_group['lr']\n",
        "\n",
        "def fit_fe(epochs, lr, model, train_loader, opt_func=torch.optim.SGD):\n",
        "    history = []\n",
        "    optimizer = opt_func(model.parameters(), lr)\n",
        "    early_stopping = EarlyStopping(patience=3, verbose=True)\n",
        "    for epoch in range(epochs):\n",
        "        model.train()\n",
        "        train_losses = []\n",
        "        for batch in tqdm(train_loader, desc=f\"Epoch {epoch}\", leave=False):\n",
        "            loss = model.training_step(batch)\n",
        "            train_losses.append(loss)\n",
        "            loss.backward()\n",
        "            optimizer.step()\n",
        "            optimizer.zero_grad()\n",
        "        train_loss = torch.stack(train_losses).mean().item()\n",
        "        print(f\"Epoch [{epoch}], train loss: {train_loss}\")\n",
        "        history.append(train_loss)\n",
        "        early_stopping(train_loss, model)\n",
        "        if early_stopping.early_stop:\n",
        "            print(\"Early stopping triggered.\")\n",
        "            break\n",
        "    return history\n",
        "\n",
        "def train(b):\n",
        "  DATA_TRANSFORM = t.Compose([t.Resize(image_dim.value),\n",
        "                                t.ToTensor()])\n",
        "  DATA_DS = ImageFolder(folder_path.value, DATA_TRANSFORM)\n",
        "  TRAIN_DL = DataLoader(DATA_DS,\n",
        "                        batch_size.value,\n",
        "                        shuffle=True,\n",
        "                        num_workers=num_workers.value)\n",
        "  TRAIN_DL = DeviceDataLoader(TRAIN_DL, device)\n",
        "  trained = base_net(models.get_model(model_dd.value), len(DATA_DS.classes))\n",
        "  trained = to_device(trained, device)\n",
        "\n",
        "  history = []\n",
        "  with output3:\n",
        "    clear_output(wait=True)\n",
        "    history += fit_fe(epoch.value,\n",
        "                      lr.value,\n",
        "                      trained,\n",
        "                      TRAIN_DL,\n",
        "                      optim_list[optimizer.value])\n",
        "  b.value = {\n",
        "      'data': DATA_DS,\n",
        "      'history': history,\n",
        "      'model': trained\n",
        "  }"
      ],
      "metadata": {
        "id": "LewaZVW__wsL"
      },
      "execution_count": null,
      "outputs": []
    },
    {
      "cell_type": "markdown",
      "source": [
        "## UMAP"
      ],
      "metadata": {
        "id": "M-LTx2T7_tyK"
      }
    },
    {
      "cell_type": "code",
      "source": [
        "from io import BytesIO\n",
        "from PIL import Image\n",
        "import pandas as pd\n",
        "import base64\n",
        "import umap\n",
        "\n",
        "from bokeh.io import show, output_notebook\n",
        "from bokeh.plotting import figure\n",
        "from bokeh.models import HoverTool, ColumnDataSource, CategoricalColorMapper\n",
        "from bokeh.palettes import Spectral10\n",
        "\n",
        "output_notebook()\n",
        "\n",
        "def get_embedding(model, dl, device):\n",
        "    \"\"\"extract feature embeddings from image\"\"\"\n",
        "\n",
        "    # Remove classification layer\n",
        "    model_fe = torch.nn.Sequential(*(list(model.children())[:-1]))\n",
        "    to_device(model_fe, device)\n",
        "\n",
        "    embeds = []\n",
        "    classes = []\n",
        "    # Iterate through batches\n",
        "    progress_bar = tqdm(total=len(dl))\n",
        "    with torch.no_grad():\n",
        "       for batch in dl:\n",
        "           images, labels = batch\n",
        "           outputs = model_fe(images)\n",
        "           classes.append(labels)\n",
        "           embeds.append(outputs)\n",
        "           progress_bar.update(1)\n",
        "    progress_bar.close()\n",
        "\n",
        "    embed = [embed.squeeze(dim=2).squeeze(dim=2).cpu() for embed in embeds]\n",
        "    embed = torch.cat(embed, dim=0).tolist()\n",
        "    classes = torch.cat(classes, dim=0).tolist()\n",
        "    return embed, classes\n",
        "\n",
        "def embeddable_image(data):\n",
        "  img = Image.open(data[0])\n",
        "  img.thumbnail((64, 64), Image.Resampling.BICUBIC)\n",
        "  buffer = BytesIO()\n",
        "  img.save(buffer, format='png')\n",
        "  for_encoding = buffer.getvalue()\n",
        "  return 'data:image/png;base64,' + base64.b64encode(for_encoding).decode()\n",
        "\n",
        "def create_df(b):\n",
        "  DATA_DS = train_btn.value['data']\n",
        "  TEST_DL = DataLoader(DATA_DS, batch_size.value, shuffle=False, num_workers=num_workers.value)\n",
        "  TEST_DL = DeviceDataLoader(TEST_DL, device)\n",
        "\n",
        "  model = train_btn.value['model']\n",
        "  model.eval()\n",
        "\n",
        "  with output4:\n",
        "    print(\"Getting image embedding:\")\n",
        "    embed, y = get_embedding(model.network, TEST_DL, device)\n",
        "\n",
        "    print(\"\\nCreating UMAP embedding:\")\n",
        "    reducer = umap.UMAP(verbose=True)\n",
        "    reducer.fit(embed)\n",
        "    embedding = reducer.transform(embed)\n",
        "    clear_output(wait=True)\n",
        "\n",
        "  images_df = pd.DataFrame(embedding, columns=('x', 'y'))\n",
        "  images_df['label'] = [DATA_DS.classes[x] for x in DATA_DS.targets]\n",
        "  images_df['name'] = [path.split(\"/\")[-1].split('.')[0] for path, _ in DATA_DS.imgs]\n",
        "  images_df['image'] = list(map(embeddable_image, DATA_DS.imgs))\n",
        "\n",
        "  cmap = glasbey.create_palette(palette_size=len(DATA_DS.classes))\n",
        "  images_df['color'] = [cmap[x] for x in DATA_DS.targets]\n",
        "  b.value = images_df\n",
        "  iqr_dd.options = DATA_DS.classes\n",
        "  iqr_dd.value = DATA_DS.classes[0]\n",
        "\n",
        "def plot_umap(b):\n",
        "  df = embed_btn.value\n",
        "  color_mapping = CategoricalColorMapper(\n",
        "      factors=df.label.unique(),\n",
        "      palette=df.color.unique()\n",
        "  )\n",
        "  p = figure(\n",
        "      width=800,\n",
        "      height=600,\n",
        "      title=\"UMAP Scatter Plot\",\n",
        "      toolbar_location=\"above\",\n",
        "      x_axis_label = 'FEATURE 1',\n",
        "      y_axis_label = 'FEATURE 2',\n",
        "      tools=('box_zoom, pan, wheel_zoom, reset, save')\n",
        "  )\n",
        "  p.add_tools(HoverTool(tooltips=\"\"\"\n",
        "  <div>\n",
        "      <div >\n",
        "          <img src='@image' style='display: block; margin: 3px auto 0px'/>\n",
        "      </div>\n",
        "      <div style='text-align: center; margin-bottom: 2px'>\n",
        "          <span style='font-size: 14px'>@name</span>\n",
        "      </div>\n",
        "  </div>\n",
        "  \"\"\"))\n",
        "\n",
        "  for labs in df.label.unique():\n",
        "      new_df = df[df.label==labs]\n",
        "      datasource = ColumnDataSource(new_df)\n",
        "      p.scatter('x', 'y',\n",
        "                source=datasource,\n",
        "                legend_label=labs,\n",
        "                color=dict(field='label', transform=color_mapping),\n",
        "                line_alpha=0,\n",
        "                fill_alpha=0.5,\n",
        "                size=10)\n",
        "  p.legend.title = \"Classess\"\n",
        "  p.legend.location = \"top_right\"\n",
        "  p.legend.click_policy=\"hide\"\n",
        "\n",
        "  show(p)"
      ],
      "metadata": {
        "id": "Ur7d_6lgBBcd"
      },
      "execution_count": null,
      "outputs": []
    },
    {
      "cell_type": "markdown",
      "source": [
        "## IQR"
      ],
      "metadata": {
        "id": "5hSqf7CMsDS8"
      }
    },
    {
      "cell_type": "code",
      "source": [
        "import matplotlib.pyplot as plt\n",
        "import seaborn as sns\n",
        "import numpy as np\n",
        "%matplotlib inline\n",
        "\n",
        "def plot_iqr(df, label, color):\n",
        "  fig, axs=plt.subplots(2,2,figsize=(8,6), gridspec_kw={'hspace': .01,\n",
        "                                                        'wspace': .01,\n",
        "                                                        'width_ratios': [5, 1],\n",
        "                                                        'height_ratios': [1, 5]})\n",
        "  axs[0,0].axis(\"off\")\n",
        "  axs[0,1].axis(\"off\")\n",
        "  axs[1,1].axis(\"off\")\n",
        "\n",
        "  sns.boxplot(data=df, x='x', y='label', ax=axs[0,0], orient='h', legend=False, color=color)\n",
        "  sns.boxplot(data=df, y='y', x='label', ax=axs[1,1], orient='v', legend=False, color=color)\n",
        "  sns.scatterplot(data=df, x=\"x\", y=\"y\", ax=axs[1,0], color=color)\n",
        "\n",
        "  fig.suptitle(f\"Scatter and Box Plot for {label}\")\n",
        "  axs[1,0].set_xlabel(\"Feature 1\")\n",
        "  axs[1,0].set_ylabel(\"Feature 2\")\n",
        "  plt.show()"
      ],
      "metadata": {
        "id": "GS07v6dSsCnW"
      },
      "execution_count": null,
      "outputs": []
    },
    {
      "cell_type": "code",
      "source": [
        "def dynamic_plot(total, Cols=5):\n",
        "    '''get column and row length to fit all'''\n",
        "    Rows = total // Cols\n",
        "    if total % Cols != 0:\n",
        "        Rows += 1\n",
        "    return Rows, Cols\n",
        "\n",
        "def decode_image(img):\n",
        "  img = base64.b64decode(img)\n",
        "  img = BytesIO(img)\n",
        "  img = Image.open(img)\n",
        "  return img\n",
        "\n",
        "def plot_images(outlier, name, n):\n",
        "  max=10\n",
        "  scale=1\n",
        "\n",
        "  if n==1:\n",
        "    fig, axes = plt.subplots(1, n, figsize=(n*scale,1*scale+.5))\n",
        "    img = decode_image(outlier['image'][0].split(',')[-1])\n",
        "    axes.imshow(img)\n",
        "    axes.set_xlabel(outlier['name'][0])\n",
        "    plt.setp(axes, xticks=[], yticks=[])\n",
        "    plt.suptitle(f\"{name} outlier\")\n",
        "    plt.show()\n",
        "    return\n",
        "\n",
        "  if n<max:\n",
        "    fig, axes = plt.subplots(1, n, figsize=(n*scale,1*scale+.5))\n",
        "  else:\n",
        "    col, row = dynamic_plot(n, max)\n",
        "    fig, axes = plt.subplots(col, row, figsize=(row*scale,col*scale))\n",
        "\n",
        "  plt.setp(axes, xticks=[], yticks=[])\n",
        "  for i, ax in enumerate(axes.flatten()):\n",
        "    if i>=n:\n",
        "      ax.axis(\"off\")\n",
        "    else:\n",
        "      img = decode_image(outlier['image'][i].split(',')[-1])\n",
        "      ax.set_xlabel(outlier['name'][i])\n",
        "      ax.imshow(img)\n",
        "  plt.suptitle(f\"{name} outlier\")\n",
        "  plt.tight_layout()\n",
        "  plt.show()"
      ],
      "metadata": {
        "id": "19K292GEsI1R"
      },
      "execution_count": null,
      "outputs": []
    },
    {
      "cell_type": "code",
      "source": [
        "def f(x):\n",
        "  df = embed_btn.value\n",
        "  df = df[df.label==x.new].reset_index()\n",
        "  embed = df[['x', 'y']]\n",
        "\n",
        "  Q1, Q3 = np.percentile(embed, [25, 75], axis=0)\n",
        "  IQR = Q3-Q1\n",
        "  LB = Q1-1.5*IQR\n",
        "  UB = Q3+1.5*IQR\n",
        "  outlier = np.unique(np.where((embed<=LB) | (embed>=UB))[0])\n",
        "  n = len(outlier)\n",
        "  outlier = df.iloc[outlier].reset_index()\n",
        "\n",
        "  with output6:\n",
        "    embed = df[['x', 'y']]\n",
        "    plot_iqr(df, x.new, df['color'][0])\n",
        "    clear_output(wait=True)\n",
        "\n",
        "  with output7:\n",
        "    if n==0:\n",
        "      print(\"No outlier found!\")\n",
        "    else:\n",
        "      plot_images(outlier, x.new, n)\n",
        "    clear_output(wait=True)"
      ],
      "metadata": {
        "id": "Rvy5ai6-sLF1"
      },
      "execution_count": null,
      "outputs": []
    },
    {
      "cell_type": "markdown",
      "source": [
        "## UI bits"
      ],
      "metadata": {
        "id": "cjUzjD87zK-0"
      }
    },
    {
      "cell_type": "code",
      "source": [
        "link = widgets.Text(placeholder='https://example.com/dataset.zip')\n",
        "dl_btn = LoadedButton(description=\"Download\", value=[])\n",
        "\n",
        "def downloader(b):\n",
        "  file = re.split('/', link.value)[-1]\n",
        "  with output1:\n",
        "    if file not in os.listdir():\n",
        "      !wget {link.value}\n",
        "      clear_output(wait=False)\n",
        "      print(f\"Downloaded {file} from {link.value}\")\n",
        "      !unzip -qq -o {file} -d \"/content/dataset\"\n",
        "      print(f\"Unzipped {file} to '/content/dataset'\")\n",
        "      folder_path.options = [f\"{data_dir}/{f}\" for f in os.listdir(data_dir)]\n",
        "      folder_path.value = f\"{data_dir}/{os.listdir(data_dir)[0]}\"\n",
        "    else:\n",
        "      print(\"file already uploaded\")\n",
        "\n",
        "dl_btn.on_click(downloader)\n",
        "\n",
        "title1 = widgets.HTML(value=\"<h1>Download dataset</h1>\")\n",
        "ui1 = widgets.HBox([link, dl_btn])"
      ],
      "metadata": {
        "id": "BbOr6rWizMte"
      },
      "execution_count": null,
      "outputs": []
    },
    {
      "cell_type": "code",
      "source": [
        "dataset = [f\"{data_dir}/{f}\" for f in os.listdir(data_dir)]\n",
        "folder_path = widgets.Dropdown(description='Image folder:', options=dataset)\n",
        "image_dim = widgets.IntText(value=224, description='Image dim:')\n",
        "batch_size = widgets.IntText(value=32, description='Batch size:')\n",
        "num_workers = widgets.IntText(value=2, description='Num worker:')\n",
        "\n",
        "title2 = widgets.HTML(value=\"<h1>Dataset options</h1>\")\n",
        "ui2 = widgets.VBox([title2, folder_path, image_dim, batch_size, num_workers])"
      ],
      "metadata": {
        "id": "swN_xpUezOtj"
      },
      "execution_count": null,
      "outputs": []
    },
    {
      "cell_type": "code",
      "source": [
        "model_dd = widgets.Dropdown(options=model_list,\n",
        "                            value='resnet18',\n",
        "                            description='Model:')\n",
        "epoch = widgets.IntText(value=2, description='Epoch:')\n",
        "lr = widgets.FloatText(value=0.00001, description='Learn Rate:')\n",
        "optimizer = widgets.Dropdown(options=list(optim_list.keys()),\n",
        "                             value='Adam',\n",
        "                             description='Optimizer:',)\n",
        "\n",
        "train_btn = LoadedButton(description=\"Train\")\n",
        "train_btn.on_click(train)\n",
        "\n",
        "title3 = widgets.HTML(value=\"<h1>Training options</h1>\")\n",
        "ui3 = widgets.VBox([title3, model_dd, epoch, lr, optimizer, train_btn])\n",
        "output3 = widgets.Output()"
      ],
      "metadata": {
        "id": "F-vQHh84zQSd"
      },
      "execution_count": null,
      "outputs": []
    },
    {
      "cell_type": "markdown",
      "source": [
        "# User Interface"
      ],
      "metadata": {
        "id": "HSgWEw4I9Aw4"
      }
    },
    {
      "cell_type": "code",
      "source": [
        "# @title\n",
        "output1 = widgets.Output()\n",
        "display(title1, ui1, output1)\n",
        "ui23 = widgets.VBox([ui2, ui3])\n",
        "display(ui23)"
      ],
      "metadata": {
        "id": "x8sUiy9rK1_z",
        "outputId": "207e14a8-9493-47d3-e8db-bffd9f771d7b",
        "colab": {
          "base_uri": "https://localhost:8080/",
          "height": 534,
          "referenced_widgets": [
            "92fd583ac51c437394b1267863d19eea",
            "cbe4f0598a3f4762b6abeb0128213fa2",
            "22061ab60f2f4c69b2518c4236b777cf",
            "20a28fd9f39d4086b71f7c2d86026907",
            "f16cb9d9e1a84efcb54803e805f3251c",
            "2b0751a97f054a25b618feec7926cfe4",
            "41d063bdc1e949a8a4b064154a3fa460",
            "faee0dab81e6426480c137b082f292c1",
            "43185179ca6c427e892178efbf85047b",
            "d9595630714841429086b02b7c404313",
            "3f846a94fe1747bba2804e40695f5779",
            "580550af473d40a1b09f9d6b2821086b",
            "0047eb489ac246b58dd96dbf0c1ddd11",
            "7480348fd9d145b0ae87063a057816ac",
            "1c5e9bc87c904c58bd4d4f68326558a7",
            "b5487347064e4c8eb41942ae3c45cd8c",
            "f248b9c1307c49d49b9392549365bec5",
            "a6f616e9d01c49f18aa6d03b3dabb126",
            "caa3a27f31034f83b9913ba2f8629741",
            "194fd45f1fa4402e818955d54b14f3b8",
            "23483c8f12044430875c22d363967b2f",
            "cf9fc9e4d5594279996a06345429a465",
            "f01e71951dae4db1a80ef8821fa3b235",
            "31121ebb0de54e839b4aa8f641aa552b",
            "c6499540d2564b79b1b037e0e7d579fd",
            "03bb38af243d4aa99972097813e579be",
            "5ee407a395a54188afecc1c7a94a7db6",
            "d1a980d9f5a54c2e9d17e118eb7f2b17",
            "5e3f97810e12493fb5ac971ed4ebb696",
            "f0b1a12d6ee84d518434b800f146a0c8",
            "7e35fe4f6c1a46ec882ddfe13eb167f3",
            "9029204ec5264d488ffccfa0913f9687",
            "a4664352e94c4d269fc8c1872a567267",
            "2a54a80553c942868567ab895c0b595e",
            "99c9fa5aaa804c6289940b0a526fc1d6",
            "1ea6db714cbd497c892891bcd13e5054",
            "b6c7acbf40a6478da86e6af3a1f7d9e7",
            "050d00ae36044fe0a21918e6e3c25fc8",
            "0367d203375848dbb9d3398285776c18",
            "2dca6cd5b52c4f198796dad395fde14e",
            "b6516409b9a3413fa6d77be759acfc8e",
            "a4cdfe7b1f2b4546877a364485399f94",
            "73b93d9a7adc40a9b5949fef2b5d88d9",
            "a14c9f9d4c274379a27e05445dc61fea",
            "a539fe0337904f238a881bbfe86ac2d9",
            "ecc5d134620f40ffb602c30181a1c0d6",
            "aac4152383024ed3af8979ae204b864d",
            "df0669f085bd4fdbb28fcf1669130ab2",
            "f5454ce7ad7c4de49412cd97f12309aa",
            "b014e529468e493c8dacd34a0079bac1",
            "4506c5c8f87c4d8b99cdd8c1a8002dc3",
            "49b90263351b4b0d994270fdb67d8c30"
          ]
        },
        "cellView": "form"
      },
      "execution_count": null,
      "outputs": [
        {
          "output_type": "display_data",
          "data": {
            "text/plain": [
              "HTML(value='<h1>Download dataset</h1>')"
            ],
            "application/vnd.jupyter.widget-view+json": {
              "version_major": 2,
              "version_minor": 0,
              "model_id": "92fd583ac51c437394b1267863d19eea"
            }
          },
          "metadata": {}
        },
        {
          "output_type": "display_data",
          "data": {
            "text/plain": [
              "HBox(children=(Text(value='', placeholder='https://example.com/dataset.zip'), LoadedButton(description='Downlo…"
            ],
            "application/vnd.jupyter.widget-view+json": {
              "version_major": 2,
              "version_minor": 0,
              "model_id": "20a28fd9f39d4086b71f7c2d86026907"
            }
          },
          "metadata": {}
        },
        {
          "output_type": "display_data",
          "data": {
            "text/plain": [
              "Output()"
            ],
            "application/vnd.jupyter.widget-view+json": {
              "version_major": 2,
              "version_minor": 0,
              "model_id": "580550af473d40a1b09f9d6b2821086b"
            }
          },
          "metadata": {}
        },
        {
          "output_type": "display_data",
          "data": {
            "text/plain": [
              "VBox(children=(VBox(children=(HTML(value='<h1>Dataset options</h1>'), Dropdown(description='Image folder:', op…"
            ],
            "application/vnd.jupyter.widget-view+json": {
              "version_major": 2,
              "version_minor": 0,
              "model_id": "7480348fd9d145b0ae87063a057816ac"
            }
          },
          "metadata": {}
        }
      ]
    },
    {
      "cell_type": "code",
      "source": [
        "# @title\n",
        "output3 = widgets.Output()\n",
        "widgets.Accordion([output3])"
      ],
      "metadata": {
        "cellView": "form",
        "id": "p0agrcRy2Gf8",
        "outputId": "e40b1d61-f9fd-45d7-fd67-883dcd9a93d8",
        "colab": {
          "base_uri": "https://localhost:8080/",
          "height": 73,
          "referenced_widgets": [
            "03de5060e3b94ef7869ab4d74f92664a",
            "50cf429a63f94669913fad652f6fc05b",
            "5a9e534d19584406abbed19a6fc930c3",
            "7412613d26334101ac40c84c0be14317"
          ]
        }
      },
      "execution_count": null,
      "outputs": [
        {
          "output_type": "display_data",
          "data": {
            "text/plain": [
              "Accordion(children=(Output(),))"
            ],
            "application/vnd.jupyter.widget-view+json": {
              "version_major": 2,
              "version_minor": 0,
              "model_id": "03de5060e3b94ef7869ab4d74f92664a"
            }
          },
          "metadata": {}
        }
      ]
    },
    {
      "cell_type": "code",
      "source": [
        "# @title\n",
        "embed_btn = LoadedButton(description=\"Get embed\")\n",
        "embed_btn.on_click(create_df)\n",
        "\n",
        "title4 = widgets.HTML(value=\"<h1>Outlier Detection</h1>\")\n",
        "output4 = widgets.Output()\n",
        "display(title4, embed_btn, output4)"
      ],
      "metadata": {
        "id": "BkDXh53ETZT4",
        "outputId": "f7b1f6b8-22f9-4943-dc21-789543c4618b",
        "colab": {
          "base_uri": "https://localhost:8080/",
          "height": 102,
          "referenced_widgets": [
            "a830855a200a499690993787055f7b46",
            "35b7c8fd4b1d498998865ef76e8651d8",
            "15a3e7edb05d478e96106fd6eedfe370",
            "f0439683da53425fbcd385b77ac50b77",
            "82b647e1259042f984212f052c20f31b",
            "38602d0472f54984850435561b9f5f3c",
            "2f80c1c8795a4a46af40903b9f81e933",
            "e54b9b84d3f84ed3a5f1599b5f0e2718"
          ]
        },
        "cellView": "form"
      },
      "execution_count": null,
      "outputs": [
        {
          "output_type": "display_data",
          "data": {
            "text/plain": [
              "HTML(value='<h1>Outlier Detection</h1>')"
            ],
            "application/vnd.jupyter.widget-view+json": {
              "version_major": 2,
              "version_minor": 0,
              "model_id": "a830855a200a499690993787055f7b46"
            }
          },
          "metadata": {}
        },
        {
          "output_type": "display_data",
          "data": {
            "text/plain": [
              "LoadedButton(description='Get embed', style=ButtonStyle())"
            ],
            "application/vnd.jupyter.widget-view+json": {
              "version_major": 2,
              "version_minor": 0,
              "model_id": "f0439683da53425fbcd385b77ac50b77"
            }
          },
          "metadata": {}
        },
        {
          "output_type": "display_data",
          "data": {
            "text/plain": [
              "Output()"
            ],
            "application/vnd.jupyter.widget-view+json": {
              "version_major": 2,
              "version_minor": 0,
              "model_id": "2f80c1c8795a4a46af40903b9f81e933"
            }
          },
          "metadata": {}
        }
      ]
    },
    {
      "cell_type": "code",
      "source": [
        "# @title\n",
        "umap_btn = LoadedButton(description=\"Plot UMAP\")\n",
        "umap_btn.on_click(plot_umap)\n",
        "\n",
        "display(umap_btn)"
      ],
      "metadata": {
        "id": "mwUeBw00VqS0",
        "outputId": "1fd0d00f-d4a2-41dd-b311-397e058699a8",
        "colab": {
          "base_uri": "https://localhost:8080/",
          "height": 49,
          "referenced_widgets": [
            "3f66dfb121ef409ea258452934e2549f",
            "3d917b5eb3b941d9a43aca8db29dd0e3",
            "f81dcbc32fcd4fc186cddbd3fb813239"
          ]
        },
        "cellView": "form"
      },
      "execution_count": null,
      "outputs": [
        {
          "output_type": "display_data",
          "data": {
            "text/plain": [
              "LoadedButton(description='Plot UMAP', style=ButtonStyle())"
            ],
            "application/vnd.jupyter.widget-view+json": {
              "version_major": 2,
              "version_minor": 0,
              "model_id": "3f66dfb121ef409ea258452934e2549f"
            }
          },
          "metadata": {}
        }
      ]
    },
    {
      "cell_type": "code",
      "source": [
        "# @title\n",
        "iqr_dd = widgets.Dropdown(options=[])\n",
        "iqr_dd.observe(f, names='value')\n",
        "\n",
        "output6 = widgets.Output()\n",
        "display(iqr_dd, output6)"
      ],
      "metadata": {
        "cellView": "form",
        "id": "SqRuTgr6dV5_",
        "outputId": "2deee7e1-ef9e-4f17-b7fb-0916082fd17a",
        "colab": {
          "base_uri": "https://localhost:8080/",
          "height": 49,
          "referenced_widgets": [
            "6deb9d3ef0ef434192659e23493ea29c",
            "ddec4af16a154f63bdb2ae869639e142",
            "36973ec90f3e46da8ac493ad75dd339a",
            "ddbfd201faab43c8b36510bf9c22b3a0",
            "510f424239a0494fa48f8911f73fdd2b"
          ]
        }
      },
      "execution_count": null,
      "outputs": [
        {
          "output_type": "display_data",
          "data": {
            "text/plain": [
              "Dropdown(options=(), value=None)"
            ],
            "application/vnd.jupyter.widget-view+json": {
              "version_major": 2,
              "version_minor": 0,
              "model_id": "6deb9d3ef0ef434192659e23493ea29c"
            }
          },
          "metadata": {}
        },
        {
          "output_type": "display_data",
          "data": {
            "text/plain": [
              "Output()"
            ],
            "application/vnd.jupyter.widget-view+json": {
              "version_major": 2,
              "version_minor": 0,
              "model_id": "ddbfd201faab43c8b36510bf9c22b3a0"
            }
          },
          "metadata": {}
        }
      ]
    },
    {
      "cell_type": "code",
      "source": [
        "# @title\n",
        "output7 = widgets.Output()\n",
        "display(output7)"
      ],
      "metadata": {
        "cellView": "form",
        "id": "6MU7Q1Q77yG2",
        "outputId": "b9bb723d-0db6-4b57-8163-f0b0691f6ce0",
        "colab": {
          "base_uri": "https://localhost:8080/",
          "height": 17,
          "referenced_widgets": [
            "2e4ff0e76def48e2be0ee85b0c2a4b2f",
            "8cef7b0210f949aca8a6cdb4f8e6d2e8"
          ]
        }
      },
      "execution_count": null,
      "outputs": [
        {
          "output_type": "display_data",
          "data": {
            "text/plain": [
              "Output()"
            ],
            "application/vnd.jupyter.widget-view+json": {
              "version_major": 2,
              "version_minor": 0,
              "model_id": "2e4ff0e76def48e2be0ee85b0c2a4b2f"
            }
          },
          "metadata": {}
        }
      ]
    }
  ]
}
